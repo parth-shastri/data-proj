{
 "cells": [
  {
   "cell_type": "code",
   "execution_count": 10,
   "metadata": {
    "collapsed": true
   },
   "outputs": [],
   "source": [
    "from sklearn import model_selection, datasets\n",
    "import pandas as pd\n",
    "import numpy as np\n",
    "import matplotlib.pyplot as plt\n",
    "import seaborn as sns\n",
    "%matplotlib inline"
   ]
  },
  {
   "cell_type": "code",
   "execution_count": 7,
   "outputs": [],
   "source": [
    "data = datasets.make_classification(10000, 10, n_classes=2, weights=[0.9, 0.1])\n",
    "X, y = data"
   ],
   "metadata": {
    "collapsed": false,
    "pycharm": {
     "name": "#%%\n"
    }
   }
  },
  {
   "cell_type": "code",
   "execution_count": 23,
   "outputs": [
    {
     "data": {
      "text/plain": "        f_0       f_1       f_2       f_3       f_4       f_5       f_6  \\\n0  2.023108  0.474298 -1.063089 -0.516380  1.968831 -0.062009 -1.690872   \n1  0.188027  1.291476  0.477812  0.214470 -0.735875 -0.882392 -0.073177   \n2 -0.201074 -1.069253  2.588585 -0.138883 -1.119434 -1.102629  0.252473   \n3  0.315600 -0.831806  0.303596  0.655483 -0.710884  1.169771 -0.170738   \n4  0.898768  1.326093  0.498019 -1.201429 -0.464762  1.288310 -0.628767   \n\n        f_7       f_8       f_9  targets  kfold  \n0  0.515878  0.028061 -1.596039        0     -1  \n1  1.938230  0.298600 -0.845662        0     -1  \n2 -1.325866  0.214512 -0.542415        0     -1  \n3  1.057241 -0.488760 -1.021557        0     -1  \n4  1.969697 -1.592506 -1.725534        0     -1  ",
      "text/html": "<div>\n<style scoped>\n    .dataframe tbody tr th:only-of-type {\n        vertical-align: middle;\n    }\n\n    .dataframe tbody tr th {\n        vertical-align: top;\n    }\n\n    .dataframe thead th {\n        text-align: right;\n    }\n</style>\n<table border=\"1\" class=\"dataframe\">\n  <thead>\n    <tr style=\"text-align: right;\">\n      <th></th>\n      <th>f_0</th>\n      <th>f_1</th>\n      <th>f_2</th>\n      <th>f_3</th>\n      <th>f_4</th>\n      <th>f_5</th>\n      <th>f_6</th>\n      <th>f_7</th>\n      <th>f_8</th>\n      <th>f_9</th>\n      <th>targets</th>\n      <th>kfold</th>\n    </tr>\n  </thead>\n  <tbody>\n    <tr>\n      <th>0</th>\n      <td>2.023108</td>\n      <td>0.474298</td>\n      <td>-1.063089</td>\n      <td>-0.516380</td>\n      <td>1.968831</td>\n      <td>-0.062009</td>\n      <td>-1.690872</td>\n      <td>0.515878</td>\n      <td>0.028061</td>\n      <td>-1.596039</td>\n      <td>0</td>\n      <td>-1</td>\n    </tr>\n    <tr>\n      <th>1</th>\n      <td>0.188027</td>\n      <td>1.291476</td>\n      <td>0.477812</td>\n      <td>0.214470</td>\n      <td>-0.735875</td>\n      <td>-0.882392</td>\n      <td>-0.073177</td>\n      <td>1.938230</td>\n      <td>0.298600</td>\n      <td>-0.845662</td>\n      <td>0</td>\n      <td>-1</td>\n    </tr>\n    <tr>\n      <th>2</th>\n      <td>-0.201074</td>\n      <td>-1.069253</td>\n      <td>2.588585</td>\n      <td>-0.138883</td>\n      <td>-1.119434</td>\n      <td>-1.102629</td>\n      <td>0.252473</td>\n      <td>-1.325866</td>\n      <td>0.214512</td>\n      <td>-0.542415</td>\n      <td>0</td>\n      <td>-1</td>\n    </tr>\n    <tr>\n      <th>3</th>\n      <td>0.315600</td>\n      <td>-0.831806</td>\n      <td>0.303596</td>\n      <td>0.655483</td>\n      <td>-0.710884</td>\n      <td>1.169771</td>\n      <td>-0.170738</td>\n      <td>1.057241</td>\n      <td>-0.488760</td>\n      <td>-1.021557</td>\n      <td>0</td>\n      <td>-1</td>\n    </tr>\n    <tr>\n      <th>4</th>\n      <td>0.898768</td>\n      <td>1.326093</td>\n      <td>0.498019</td>\n      <td>-1.201429</td>\n      <td>-0.464762</td>\n      <td>1.288310</td>\n      <td>-0.628767</td>\n      <td>1.969697</td>\n      <td>-1.592506</td>\n      <td>-1.725534</td>\n      <td>0</td>\n      <td>-1</td>\n    </tr>\n  </tbody>\n</table>\n</div>"
     },
     "execution_count": 23,
     "metadata": {},
     "output_type": "execute_result"
    }
   ],
   "source": [
    "data_df = pd.DataFrame(\n",
    "    X, columns=[f\"f_{i}\" for i in range(10)]\n",
    ")\n",
    "data_df.loc[:, \"targets\"] = y\n",
    "data_df[\"kfold\"] = -1\n",
    "data_df = data_df.sample(frac=1).reset_index(drop=True)\n",
    "data_df.head()"
   ],
   "metadata": {
    "collapsed": false,
    "pycharm": {
     "name": "#%%\n"
    }
   }
  },
  {
   "cell_type": "code",
   "execution_count": 27,
   "outputs": [
    {
     "data": {
      "text/plain": "         f_0       f_1       f_2       f_3       f_4       f_5       f_6  \\\n0   2.023108  0.474298 -1.063089 -0.516380  1.968831 -0.062009 -1.690872   \n1   0.188027  1.291476  0.477812  0.214470 -0.735875 -0.882392 -0.073177   \n2  -0.201074 -1.069253  2.588585 -0.138883 -1.119434 -1.102629  0.252473   \n3   0.315600 -0.831806  0.303596  0.655483 -0.710884  1.169771 -0.170738   \n4   0.898768  1.326093  0.498019 -1.201429 -0.464762  1.288310 -0.628767   \n5  -0.531325 -0.344154 -0.939226 -0.080667 -0.668218  0.318898  0.457884   \n6  -0.510138 -0.409099  0.456242  0.162078 -0.088590 -0.747045  0.389090   \n7   2.738154 -0.479906 -0.853664 -1.091205  2.064236  0.312982 -2.233620   \n8   0.143044 -0.018000  0.725606 -1.631276 -0.930928 -0.553976 -0.021757   \n9   0.700214 -1.171991  0.856571  0.769580 -0.815463  0.322177 -0.448428   \n10  1.826505  1.403874  1.188210  0.256900  1.165990  0.028790 -1.470671   \n11  3.565978  0.034446  2.267631  0.015563  1.888352  1.625009 -2.835802   \n12  0.418366  0.283871  1.619393  1.435046 -0.812022 -1.274478 -0.238246   \n13  1.894820 -0.299321 -1.565951 -0.601266  1.608116 -0.992104 -1.562096   \n14 -0.843226 -0.679958 -0.226376 -0.597732 -2.528868 -0.312411  0.860864   \n15  0.548259 -0.933252  0.211464 -0.366767 -0.777548 -1.028942 -0.338406   \n16  0.600168  0.820019  0.358764 -0.561065 -0.995364 -0.682503 -0.357269   \n17  0.720708 -0.217098  0.801539  0.047087 -0.622214 -0.450607 -0.481394   \n18 -0.391861 -1.306300  0.273875  1.109109  0.221884  0.763303  0.272382   \n19 -0.041067 -0.157394  0.453118 -1.217487 -1.254750  1.033575  0.145339   \n\n         f_7       f_8       f_9  targets  kfold  \n0   0.515878  0.028061 -1.596039        0      0  \n1   1.938230  0.298600 -0.845662        0      0  \n2  -1.325866  0.214512 -0.542415        0      0  \n3   1.057241 -0.488760 -1.021557        0      0  \n4   1.969697 -1.592506 -1.725534        0      0  \n5  -0.310993  1.161956  0.304459        0      0  \n6  -3.179631 -1.491934  0.711979        1      0  \n7   2.138367  0.231946 -2.615834        0      0  \n8  -0.567111  0.990275 -0.924980        0      0  \n9   0.198583 -0.825305 -1.688403        0      0  \n10 -0.404713  0.515629 -1.905019        0      0  \n11  0.372408  1.594336 -4.013773        0      0  \n12 -1.350016  0.145337 -1.255281        0      0  \n13 -0.834362  0.878584 -1.673834        0      0  \n14  1.698865  0.522353 -0.631188        1      0  \n15  0.969625  1.006945 -1.427525        0      0  \n16 -1.022186  0.000632 -1.672116        0      0  \n17 -0.101682  0.681895 -1.573047        0      0  \n18 -0.790926  0.745593  0.766938        0      0  \n19  1.728102  0.676805 -0.889510        0      0  ",
      "text/html": "<div>\n<style scoped>\n    .dataframe tbody tr th:only-of-type {\n        vertical-align: middle;\n    }\n\n    .dataframe tbody tr th {\n        vertical-align: top;\n    }\n\n    .dataframe thead th {\n        text-align: right;\n    }\n</style>\n<table border=\"1\" class=\"dataframe\">\n  <thead>\n    <tr style=\"text-align: right;\">\n      <th></th>\n      <th>f_0</th>\n      <th>f_1</th>\n      <th>f_2</th>\n      <th>f_3</th>\n      <th>f_4</th>\n      <th>f_5</th>\n      <th>f_6</th>\n      <th>f_7</th>\n      <th>f_8</th>\n      <th>f_9</th>\n      <th>targets</th>\n      <th>kfold</th>\n    </tr>\n  </thead>\n  <tbody>\n    <tr>\n      <th>0</th>\n      <td>2.023108</td>\n      <td>0.474298</td>\n      <td>-1.063089</td>\n      <td>-0.516380</td>\n      <td>1.968831</td>\n      <td>-0.062009</td>\n      <td>-1.690872</td>\n      <td>0.515878</td>\n      <td>0.028061</td>\n      <td>-1.596039</td>\n      <td>0</td>\n      <td>0</td>\n    </tr>\n    <tr>\n      <th>1</th>\n      <td>0.188027</td>\n      <td>1.291476</td>\n      <td>0.477812</td>\n      <td>0.214470</td>\n      <td>-0.735875</td>\n      <td>-0.882392</td>\n      <td>-0.073177</td>\n      <td>1.938230</td>\n      <td>0.298600</td>\n      <td>-0.845662</td>\n      <td>0</td>\n      <td>0</td>\n    </tr>\n    <tr>\n      <th>2</th>\n      <td>-0.201074</td>\n      <td>-1.069253</td>\n      <td>2.588585</td>\n      <td>-0.138883</td>\n      <td>-1.119434</td>\n      <td>-1.102629</td>\n      <td>0.252473</td>\n      <td>-1.325866</td>\n      <td>0.214512</td>\n      <td>-0.542415</td>\n      <td>0</td>\n      <td>0</td>\n    </tr>\n    <tr>\n      <th>3</th>\n      <td>0.315600</td>\n      <td>-0.831806</td>\n      <td>0.303596</td>\n      <td>0.655483</td>\n      <td>-0.710884</td>\n      <td>1.169771</td>\n      <td>-0.170738</td>\n      <td>1.057241</td>\n      <td>-0.488760</td>\n      <td>-1.021557</td>\n      <td>0</td>\n      <td>0</td>\n    </tr>\n    <tr>\n      <th>4</th>\n      <td>0.898768</td>\n      <td>1.326093</td>\n      <td>0.498019</td>\n      <td>-1.201429</td>\n      <td>-0.464762</td>\n      <td>1.288310</td>\n      <td>-0.628767</td>\n      <td>1.969697</td>\n      <td>-1.592506</td>\n      <td>-1.725534</td>\n      <td>0</td>\n      <td>0</td>\n    </tr>\n    <tr>\n      <th>5</th>\n      <td>-0.531325</td>\n      <td>-0.344154</td>\n      <td>-0.939226</td>\n      <td>-0.080667</td>\n      <td>-0.668218</td>\n      <td>0.318898</td>\n      <td>0.457884</td>\n      <td>-0.310993</td>\n      <td>1.161956</td>\n      <td>0.304459</td>\n      <td>0</td>\n      <td>0</td>\n    </tr>\n    <tr>\n      <th>6</th>\n      <td>-0.510138</td>\n      <td>-0.409099</td>\n      <td>0.456242</td>\n      <td>0.162078</td>\n      <td>-0.088590</td>\n      <td>-0.747045</td>\n      <td>0.389090</td>\n      <td>-3.179631</td>\n      <td>-1.491934</td>\n      <td>0.711979</td>\n      <td>1</td>\n      <td>0</td>\n    </tr>\n    <tr>\n      <th>7</th>\n      <td>2.738154</td>\n      <td>-0.479906</td>\n      <td>-0.853664</td>\n      <td>-1.091205</td>\n      <td>2.064236</td>\n      <td>0.312982</td>\n      <td>-2.233620</td>\n      <td>2.138367</td>\n      <td>0.231946</td>\n      <td>-2.615834</td>\n      <td>0</td>\n      <td>0</td>\n    </tr>\n    <tr>\n      <th>8</th>\n      <td>0.143044</td>\n      <td>-0.018000</td>\n      <td>0.725606</td>\n      <td>-1.631276</td>\n      <td>-0.930928</td>\n      <td>-0.553976</td>\n      <td>-0.021757</td>\n      <td>-0.567111</td>\n      <td>0.990275</td>\n      <td>-0.924980</td>\n      <td>0</td>\n      <td>0</td>\n    </tr>\n    <tr>\n      <th>9</th>\n      <td>0.700214</td>\n      <td>-1.171991</td>\n      <td>0.856571</td>\n      <td>0.769580</td>\n      <td>-0.815463</td>\n      <td>0.322177</td>\n      <td>-0.448428</td>\n      <td>0.198583</td>\n      <td>-0.825305</td>\n      <td>-1.688403</td>\n      <td>0</td>\n      <td>0</td>\n    </tr>\n    <tr>\n      <th>10</th>\n      <td>1.826505</td>\n      <td>1.403874</td>\n      <td>1.188210</td>\n      <td>0.256900</td>\n      <td>1.165990</td>\n      <td>0.028790</td>\n      <td>-1.470671</td>\n      <td>-0.404713</td>\n      <td>0.515629</td>\n      <td>-1.905019</td>\n      <td>0</td>\n      <td>0</td>\n    </tr>\n    <tr>\n      <th>11</th>\n      <td>3.565978</td>\n      <td>0.034446</td>\n      <td>2.267631</td>\n      <td>0.015563</td>\n      <td>1.888352</td>\n      <td>1.625009</td>\n      <td>-2.835802</td>\n      <td>0.372408</td>\n      <td>1.594336</td>\n      <td>-4.013773</td>\n      <td>0</td>\n      <td>0</td>\n    </tr>\n    <tr>\n      <th>12</th>\n      <td>0.418366</td>\n      <td>0.283871</td>\n      <td>1.619393</td>\n      <td>1.435046</td>\n      <td>-0.812022</td>\n      <td>-1.274478</td>\n      <td>-0.238246</td>\n      <td>-1.350016</td>\n      <td>0.145337</td>\n      <td>-1.255281</td>\n      <td>0</td>\n      <td>0</td>\n    </tr>\n    <tr>\n      <th>13</th>\n      <td>1.894820</td>\n      <td>-0.299321</td>\n      <td>-1.565951</td>\n      <td>-0.601266</td>\n      <td>1.608116</td>\n      <td>-0.992104</td>\n      <td>-1.562096</td>\n      <td>-0.834362</td>\n      <td>0.878584</td>\n      <td>-1.673834</td>\n      <td>0</td>\n      <td>0</td>\n    </tr>\n    <tr>\n      <th>14</th>\n      <td>-0.843226</td>\n      <td>-0.679958</td>\n      <td>-0.226376</td>\n      <td>-0.597732</td>\n      <td>-2.528868</td>\n      <td>-0.312411</td>\n      <td>0.860864</td>\n      <td>1.698865</td>\n      <td>0.522353</td>\n      <td>-0.631188</td>\n      <td>1</td>\n      <td>0</td>\n    </tr>\n    <tr>\n      <th>15</th>\n      <td>0.548259</td>\n      <td>-0.933252</td>\n      <td>0.211464</td>\n      <td>-0.366767</td>\n      <td>-0.777548</td>\n      <td>-1.028942</td>\n      <td>-0.338406</td>\n      <td>0.969625</td>\n      <td>1.006945</td>\n      <td>-1.427525</td>\n      <td>0</td>\n      <td>0</td>\n    </tr>\n    <tr>\n      <th>16</th>\n      <td>0.600168</td>\n      <td>0.820019</td>\n      <td>0.358764</td>\n      <td>-0.561065</td>\n      <td>-0.995364</td>\n      <td>-0.682503</td>\n      <td>-0.357269</td>\n      <td>-1.022186</td>\n      <td>0.000632</td>\n      <td>-1.672116</td>\n      <td>0</td>\n      <td>0</td>\n    </tr>\n    <tr>\n      <th>17</th>\n      <td>0.720708</td>\n      <td>-0.217098</td>\n      <td>0.801539</td>\n      <td>0.047087</td>\n      <td>-0.622214</td>\n      <td>-0.450607</td>\n      <td>-0.481394</td>\n      <td>-0.101682</td>\n      <td>0.681895</td>\n      <td>-1.573047</td>\n      <td>0</td>\n      <td>0</td>\n    </tr>\n    <tr>\n      <th>18</th>\n      <td>-0.391861</td>\n      <td>-1.306300</td>\n      <td>0.273875</td>\n      <td>1.109109</td>\n      <td>0.221884</td>\n      <td>0.763303</td>\n      <td>0.272382</td>\n      <td>-0.790926</td>\n      <td>0.745593</td>\n      <td>0.766938</td>\n      <td>0</td>\n      <td>0</td>\n    </tr>\n    <tr>\n      <th>19</th>\n      <td>-0.041067</td>\n      <td>-0.157394</td>\n      <td>0.453118</td>\n      <td>-1.217487</td>\n      <td>-1.254750</td>\n      <td>1.033575</td>\n      <td>0.145339</td>\n      <td>1.728102</td>\n      <td>0.676805</td>\n      <td>-0.889510</td>\n      <td>0</td>\n      <td>0</td>\n    </tr>\n  </tbody>\n</table>\n</div>"
     },
     "execution_count": 27,
     "metadata": {},
     "output_type": "execute_result"
    }
   ],
   "source": [
    "k_fold = model_selection.StratifiedKFold(n_splits=5)\n",
    "\n",
    "for ind, (train, val) in enumerate(k_fold.split(data_df, y=data_df.targets.values)):\n",
    "    data_df.loc[val, \"kfold\"] = ind\n",
    "\n",
    "data_df.head()"
   ],
   "metadata": {
    "collapsed": false,
    "pycharm": {
     "name": "#%%\n"
    }
   }
  },
  {
   "cell_type": "code",
   "execution_count": null,
   "outputs": [],
   "source": [],
   "metadata": {
    "collapsed": false,
    "pycharm": {
     "name": "#%%\n"
    }
   }
  }
 ],
 "metadata": {
  "kernelspec": {
   "display_name": "Python 3",
   "language": "python",
   "name": "python3"
  },
  "language_info": {
   "codemirror_mode": {
    "name": "ipython",
    "version": 2
   },
   "file_extension": ".py",
   "mimetype": "text/x-python",
   "name": "python",
   "nbconvert_exporter": "python",
   "pygments_lexer": "ipython2",
   "version": "2.7.6"
  }
 },
 "nbformat": 4,
 "nbformat_minor": 0
}